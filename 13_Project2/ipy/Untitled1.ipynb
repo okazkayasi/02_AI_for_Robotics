{
 "cells": [
  {
   "cell_type": "code",
   "execution_count": 2,
   "metadata": {},
   "outputs": [],
   "source": [
    "import StringIO"
   ]
  },
  {
   "cell_type": "code",
   "execution_count": 3,
   "metadata": {},
   "outputs": [
    {
     "data": {
      "text/plain": [
       "['move 8 8',\n",
       " 'move 7 7',\n",
       " 'move 6 7',\n",
       " 'move 5 7',\n",
       " 'move 4 7',\n",
       " 'move 3 7',\n",
       " 'move 3 6',\n",
       " 'move 3 5',\n",
       " 'move 3 4',\n",
       " 'move 3 3',\n",
       " 'move 2 2',\n",
       " 'move 1 3',\n",
       " 'lift 0',\n",
       " 'move 2 3',\n",
       " 'move 3 3',\n",
       " 'move 3 4',\n",
       " 'move 3 5',\n",
       " 'move 3 6',\n",
       " 'move 3 7',\n",
       " 'move 4 7',\n",
       " 'move 5 7',\n",
       " 'move 6 7',\n",
       " 'move 7 8',\n",
       " 'move 8 9',\n",
       " 'move 9 9',\n",
       " 'down 9 9',\n",
       " 'move 8 9',\n",
       " 'move 7 9',\n",
       " 'move 6 9',\n",
       " 'move 5 8',\n",
       " 'lift 1',\n",
       " 'move 6 9',\n",
       " 'move 7 9',\n",
       " 'move 8 9',\n",
       " 'move 9 9',\n",
       " 'down 9 9']"
      ]
     },
     "execution_count": 3,
     "metadata": {},
     "output_type": "execute_result"
    }
   ],
   "source": [
    "action_list = ['move 8 8', 'move 7 7', 'move 6 7', 'move 5 7', 'move 4 7', 'move 3 7', 'move 3 6', 'move 3 5', 'move 3 4', 'move 3 3', 'move 2 2', 'move 1 3', 'lift 0', 'move 2 3', 'move 3 3', 'move 3 4', 'move 3 5', 'move 3 6', 'move 3 7', 'move 4 7', 'move 5 7', 'move 6 7', 'move 7 8', 'move 8 9', 'move 9 9', 'down 9 9', 'move 8 9', 'move 7 9', 'move 6 9', 'move 5 8', 'lift 1', 'move 6 9', 'move 7 9', 'move 8 9', 'move 9 9', 'down 9 9']\n",
    "action_list"
   ]
  },
  {
   "cell_type": "code",
   "execution_count": 11,
   "metadata": {},
   "outputs": [],
   "source": [
    "robotloc = [9,9 ]\n",
    "seques = []\n",
    "part = []\n",
    "rob = tuple(robotloc)\n",
    "part.append(rob)\n",
    "for each in action_list:\n",
    "    if each [:4] == 'move':\n",
    "        x = each [-3]\n",
    "        y = each [-1]\n",
    "        x = int(x)\n",
    "        y = int(y)\n",
    "        part.append((x,y))\n",
    "    else:\n",
    "\n",
    "        seques.append(part)\n",
    "        part = []\n",
    "        seques.append(each)"
   ]
  },
  {
   "cell_type": "code",
   "execution_count": 12,
   "metadata": {},
   "outputs": [
    {
     "data": {
      "text/plain": [
       "[[(9, 9),\n",
       "  (8, 8),\n",
       "  (7, 7),\n",
       "  (6, 7),\n",
       "  (5, 7),\n",
       "  (4, 7),\n",
       "  (3, 7),\n",
       "  (3, 6),\n",
       "  (3, 5),\n",
       "  (3, 4),\n",
       "  (3, 3),\n",
       "  (2, 2),\n",
       "  (1, 3)],\n",
       " 'lift 0',\n",
       " [(2, 3),\n",
       "  (3, 3),\n",
       "  (3, 4),\n",
       "  (3, 5),\n",
       "  (3, 6),\n",
       "  (3, 7),\n",
       "  (4, 7),\n",
       "  (5, 7),\n",
       "  (6, 7),\n",
       "  (7, 8),\n",
       "  (8, 9),\n",
       "  (9, 9)],\n",
       " 'down 9 9',\n",
       " [(8, 9), (7, 9), (6, 9), (5, 8)],\n",
       " 'lift 1',\n",
       " [(6, 9), (7, 9), (8, 9), (9, 9)],\n",
       " 'down 9 9']"
      ]
     },
     "execution_count": 12,
     "metadata": {},
     "output_type": "execute_result"
    }
   ],
   "source": [
    "seques"
   ]
  },
  {
   "cell_type": "code",
   "execution_count": 17,
   "metadata": {},
   "outputs": [],
   "source": [
    "road = seques[0]"
   ]
  },
  {
   "cell_type": "code",
   "execution_count": 18,
   "metadata": {},
   "outputs": [
    {
     "data": {
      "text/plain": [
       "[(9, 9),\n",
       " (8, 8),\n",
       " (7, 7),\n",
       " (6, 7),\n",
       " (5, 7),\n",
       " (4, 7),\n",
       " (3, 7),\n",
       " (3, 6),\n",
       " (3, 5),\n",
       " (3, 4),\n",
       " (3, 3),\n",
       " (2, 2),\n",
       " (1, 3)]"
      ]
     },
     "execution_count": 18,
     "metadata": {},
     "output_type": "execute_result"
    }
   ],
   "source": [
    "road"
   ]
  },
  {
   "cell_type": "code",
   "execution_count": 8,
   "metadata": {},
   "outputs": [
    {
     "data": {
      "text/plain": [
       "[(9, 9), (8, 8), (7, 7)]"
      ]
     },
     "execution_count": 8,
     "metadata": {},
     "output_type": "execute_result"
    }
   ],
   "source": []
  },
  {
   "cell_type": "code",
   "execution_count": 19,
   "metadata": {},
   "outputs": [],
   "source": [
    "lines = []\n",
    "at = 0\n",
    "line_s = road[at]\n",
    "line_e = road[at + 1]\n",
    "x = road[at+1][0] - road[at][0]  \n",
    "y = road[at+1][1] - road[at][1]\n",
    "\n",
    "at += 1\n",
    "while at < len(road) - 1:\n",
    "    x_check = road[at+1][0] - road[at][0]  \n",
    "    y_check = road[at+1][1] - road[at][1]\n",
    "\n",
    "    if x == x_check and y == y_check:\n",
    "        line_e = road[at + 1]\n",
    "        at += 1\n",
    "    else:\n",
    "        lines.append((line_s, line_e))\n",
    "        x = x_check\n",
    "        y = y_check\n",
    "        line_s = road[at]\n",
    "        line_e = road[at + 1]\n",
    "        at += 1\n",
    "    \n",
    "    if at == len(road)-1:\n",
    "        lines.append((line_s, line_e))\n"
   ]
  },
  {
   "cell_type": "code",
   "execution_count": 20,
   "metadata": {},
   "outputs": [
    {
     "data": {
      "text/plain": [
       "[((9, 9), (7, 7)),\n",
       " ((7, 7), (3, 7)),\n",
       " ((3, 7), (3, 3)),\n",
       " ((3, 3), (2, 2)),\n",
       " ((2, 2), (1, 3))]"
      ]
     },
     "execution_count": 20,
     "metadata": {},
     "output_type": "execute_result"
    }
   ],
   "source": [
    "lines"
   ]
  },
  {
   "cell_type": "code",
   "execution_count": 37,
   "metadata": {},
   "outputs": [
    {
     "data": {
      "text/plain": [
       "((9, 9), (7, 7))"
      ]
     },
     "execution_count": 37,
     "metadata": {},
     "output_type": "execute_result"
    }
   ],
   "source": [
    "line = lines[0]\n",
    "line"
   ]
  },
  {
   "cell_type": "code",
   "execution_count": 278,
   "metadata": {},
   "outputs": [],
   "source": [
    "line = ((9, 9), (7, 7))"
   ]
  },
  {
   "cell_type": "code",
   "execution_count": 279,
   "metadata": {},
   "outputs": [],
   "source": [
    "y_diff = line[1][0] - line[0][0]\n",
    "x_diff = line[1][1] - line[0][1]\n"
   ]
  },
  {
   "cell_type": "code",
   "execution_count": 280,
   "metadata": {},
   "outputs": [],
   "source": [
    "from math import *"
   ]
  },
  {
   "cell_type": "code",
   "execution_count": 281,
   "metadata": {},
   "outputs": [
    {
     "name": "stdout",
     "output_type": "stream",
     "text": [
      "-2.35619449019 2.35619449019\n"
     ]
    }
   ],
   "source": [
    "req_head = (atan2(y_diff, x_diff))\n",
    "head = radians(135)\n",
    "print req_head, head"
   ]
  },
  {
   "cell_type": "code",
   "execution_count": 282,
   "metadata": {},
   "outputs": [],
   "source": [
    "diff = 0 \n",
    "if req_head < 0 and head < 0:\n",
    "    diff = head - req_head\n",
    "elif req_head < 0 and head > 0:\n",
    "    diff = head - req_head\n",
    "    if diff > math.pi:\n",
    "        diff = -math.pi*2 + diff\n",
    "elif req_head > 0 and head < 0:\n",
    "    diff = head - req_head\n",
    "    if diff < - math.pi:\n",
    "        diff = math.pi*2 + diff\n",
    "else: # both positive\n",
    "    diff = head - req_head\n",
    "    "
   ]
  },
  {
   "cell_type": "code",
   "execution_count": 283,
   "metadata": {},
   "outputs": [
    {
     "data": {
      "text/plain": [
       "2.8284271247461903"
      ]
     },
     "execution_count": 283,
     "metadata": {},
     "output_type": "execute_result"
    }
   ],
   "source": [
    "distance = (y_diff**2 + x_diff**2)**0.5\n",
    "distance"
   ]
  },
  {
   "cell_type": "code",
   "execution_count": 284,
   "metadata": {},
   "outputs": [
    {
     "data": {
      "text/plain": [
       "'move 10 0'"
      ]
     },
     "execution_count": 284,
     "metadata": {},
     "output_type": "execute_result"
    }
   ],
   "source": [
    "move = 'move {} {}'.format(10, 0)\n",
    "move"
   ]
  },
  {
   "cell_type": "code",
   "execution_count": 285,
   "metadata": {},
   "outputs": [
    {
     "data": {
      "text/plain": [
       "1.4142135623730951"
      ]
     },
     "execution_count": 285,
     "metadata": {},
     "output_type": "execute_result"
    }
   ],
   "source": [
    "2**0.5\n"
   ]
  },
  {
   "cell_type": "code",
   "execution_count": 290,
   "metadata": {},
   "outputs": [
    {
     "data": {
      "text/plain": [
       "44.42704220484349"
      ]
     },
     "execution_count": 290,
     "metadata": {},
     "output_type": "execute_result"
    }
   ],
   "source": [
    "degrees(0.775398163397)"
   ]
  },
  {
   "cell_type": "code",
   "execution_count": 292,
   "metadata": {},
   "outputs": [
    {
     "data": {
      "text/plain": [
       "0.9899494936611664"
      ]
     },
     "execution_count": 292,
     "metadata": {},
     "output_type": "execute_result"
    }
   ],
   "source": [
    "0.7 * sin(radians(45)) *2"
   ]
  },
  {
   "cell_type": "code",
   "execution_count": 302,
   "metadata": {},
   "outputs": [
    {
     "data": {
      "text/plain": [
       "-134.64508185574346"
      ]
     },
     "execution_count": 302,
     "metadata": {},
     "output_type": "execute_result"
    }
   ],
   "source": [
    "degrees(-2.35)"
   ]
  },
  {
   "cell_type": "code",
   "execution_count": 300,
   "metadata": {},
   "outputs": [
    {
     "data": {
      "text/plain": [
       "-0.7021462887308054"
      ]
     },
     "execution_count": 300,
     "metadata": {},
     "output_type": "execute_result"
    }
   ],
   "source": [
    "sin(3.92)"
   ]
  },
  {
   "cell_type": "code",
   "execution_count": null,
   "metadata": {},
   "outputs": [],
   "source": []
  }
 ],
 "metadata": {
  "kernelspec": {
   "display_name": "Python 2",
   "language": "python",
   "name": "python2"
  },
  "language_info": {
   "codemirror_mode": {
    "name": "ipython",
    "version": 2
   },
   "file_extension": ".py",
   "mimetype": "text/x-python",
   "name": "python",
   "nbconvert_exporter": "python",
   "pygments_lexer": "ipython2",
   "version": "2.7.12"
  }
 },
 "nbformat": 4,
 "nbformat_minor": 2
}
